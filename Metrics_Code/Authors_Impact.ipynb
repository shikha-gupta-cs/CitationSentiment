{
 "cells": [
  {
   "cell_type": "code",
   "execution_count": 2,
   "id": "0caec3bd",
   "metadata": {},
   "outputs": [
    {
     "data": {
      "text/html": [
       "<div>\n",
       "<style scoped>\n",
       "    .dataframe tbody tr th:only-of-type {\n",
       "        vertical-align: middle;\n",
       "    }\n",
       "\n",
       "    .dataframe tbody tr th {\n",
       "        vertical-align: top;\n",
       "    }\n",
       "\n",
       "    .dataframe thead th {\n",
       "        text-align: right;\n",
       "    }\n",
       "</style>\n",
       "<table border=\"1\" class=\"dataframe\">\n",
       "  <thead>\n",
       "    <tr style=\"text-align: right;\">\n",
       "      <th></th>\n",
       "      <th>Paper</th>\n",
       "      <th>No of citing paper</th>\n",
       "      <th>Total Citations</th>\n",
       "      <th>Total Score</th>\n",
       "      <th>AuthorNumber</th>\n",
       "      <th>Author</th>\n",
       "    </tr>\n",
       "  </thead>\n",
       "  <tbody>\n",
       "    <tr>\n",
       "      <th>0</th>\n",
       "      <td>A00-2024</td>\n",
       "      <td>15</td>\n",
       "      <td>29</td>\n",
       "      <td>3.750</td>\n",
       "      <td>Author1</td>\n",
       "      <td>Jing, Hongyan</td>\n",
       "    </tr>\n",
       "    <tr>\n",
       "      <th>1</th>\n",
       "      <td>A00-2024</td>\n",
       "      <td>15</td>\n",
       "      <td>29</td>\n",
       "      <td>3.750</td>\n",
       "      <td>Author2</td>\n",
       "      <td>McKeown, Kathleen R.</td>\n",
       "    </tr>\n",
       "    <tr>\n",
       "      <th>2</th>\n",
       "      <td>A92-1018</td>\n",
       "      <td>61</td>\n",
       "      <td>82</td>\n",
       "      <td>3.875</td>\n",
       "      <td>Author1</td>\n",
       "      <td>Cutting, Doug</td>\n",
       "    </tr>\n",
       "    <tr>\n",
       "      <th>3</th>\n",
       "      <td>A92-1018</td>\n",
       "      <td>61</td>\n",
       "      <td>82</td>\n",
       "      <td>3.875</td>\n",
       "      <td>Author2</td>\n",
       "      <td>Kupiec, Julian</td>\n",
       "    </tr>\n",
       "    <tr>\n",
       "      <th>4</th>\n",
       "      <td>A92-1018</td>\n",
       "      <td>61</td>\n",
       "      <td>82</td>\n",
       "      <td>3.875</td>\n",
       "      <td>Author3</td>\n",
       "      <td>Pedersen, Jan</td>\n",
       "    </tr>\n",
       "  </tbody>\n",
       "</table>\n",
       "</div>"
      ],
      "text/plain": [
       "      Paper  No of citing paper  Total Citations  Total Score AuthorNumber  \\\n",
       "0  A00-2024                  15               29        3.750      Author1   \n",
       "1  A00-2024                  15               29        3.750      Author2   \n",
       "2  A92-1018                  61               82        3.875      Author1   \n",
       "3  A92-1018                  61               82        3.875      Author2   \n",
       "4  A92-1018                  61               82        3.875      Author3   \n",
       "\n",
       "                 Author  \n",
       "0         Jing, Hongyan  \n",
       "1  McKeown, Kathleen R.  \n",
       "2         Cutting, Doug  \n",
       "3        Kupiec, Julian  \n",
       "4         Pedersen, Jan  "
      ]
     },
     "execution_count": 2,
     "metadata": {},
     "output_type": "execute_result"
    }
   ],
   "source": [
    "import pandas as pd\n",
    "data = pd.read_excel('C:/Users/HP/Desktop/Author_Papers_Athar.xlsx', header = 0)\n",
    "data.head()"
   ]
  },
  {
   "cell_type": "code",
   "execution_count": 3,
   "id": "1948e5a0",
   "metadata": {},
   "outputs": [],
   "source": [
    "# Creating a list of unique authors\n",
    "author = []\n",
    "for i in data['Author']:\n",
    "    if(i not in author):\n",
    "        author.append(i)\n",
    "        \n",
    "# Through Averaging the Citation Counts and Sentiment Score count, finding the impact factors \n",
    "imp_fac = []\n",
    "s_fac = []\n",
    "for i in author:\n",
    "    subdata = data[data['Author'] == i]\n",
    "    imp_fac.append( sum(subdata['No of citing paper'])/ len(subdata))\n",
    "    s_fac.append(sum(subdata['Total Score'])/ len(subdata))"
   ]
  },
  {
   "cell_type": "code",
   "execution_count": 4,
   "id": "d82c8291",
   "metadata": {},
   "outputs": [
    {
     "name": "stdout",
     "output_type": "stream",
     "text": [
      "357 357\n"
     ]
    }
   ],
   "source": [
    "print(len(imp_fac), len(s_fac))"
   ]
  },
  {
   "cell_type": "code",
   "execution_count": null,
   "id": "b39ff14a",
   "metadata": {},
   "outputs": [],
   "source": [
    "for i in range (357):\n",
    "    print(author[i], imp_fac[i], s_fac[i])"
   ]
  },
  {
   "cell_type": "code",
   "execution_count": 11,
   "id": "3f49ae1a",
   "metadata": {},
   "outputs": [
    {
     "data": {
      "text/html": [
       "<div>\n",
       "<style scoped>\n",
       "    .dataframe tbody tr th:only-of-type {\n",
       "        vertical-align: middle;\n",
       "    }\n",
       "\n",
       "    .dataframe tbody tr th {\n",
       "        vertical-align: top;\n",
       "    }\n",
       "\n",
       "    .dataframe thead th {\n",
       "        text-align: right;\n",
       "    }\n",
       "</style>\n",
       "<table border=\"1\" class=\"dataframe\">\n",
       "  <thead>\n",
       "    <tr style=\"text-align: right;\">\n",
       "      <th></th>\n",
       "      <th>Paper</th>\n",
       "      <th>No of citing paper</th>\n",
       "      <th>Total Citations</th>\n",
       "      <th>Total Score</th>\n",
       "      <th>AuthorNumber</th>\n",
       "      <th>Author</th>\n",
       "    </tr>\n",
       "  </thead>\n",
       "  <tbody>\n",
       "    <tr>\n",
       "      <th>149</th>\n",
       "      <td>J92-1002</td>\n",
       "      <td>8</td>\n",
       "      <td>14</td>\n",
       "      <td>0.125</td>\n",
       "      <td>Author5</td>\n",
       "      <td>Mercer, Robert L.</td>\n",
       "    </tr>\n",
       "    <tr>\n",
       "      <th>154</th>\n",
       "      <td>J92-4003</td>\n",
       "      <td>117</td>\n",
       "      <td>204</td>\n",
       "      <td>2.125</td>\n",
       "      <td>Author5</td>\n",
       "      <td>Mercer, Robert L.</td>\n",
       "    </tr>\n",
       "    <tr>\n",
       "      <th>160</th>\n",
       "      <td>J93-2003</td>\n",
       "      <td>368</td>\n",
       "      <td>707</td>\n",
       "      <td>5.875</td>\n",
       "      <td>Author4</td>\n",
       "      <td>Mercer, Robert L.</td>\n",
       "    </tr>\n",
       "  </tbody>\n",
       "</table>\n",
       "</div>"
      ],
      "text/plain": [
       "        Paper  No of citing paper  Total Citations  Total Score AuthorNumber  \\\n",
       "149  J92-1002                   8               14        0.125      Author5   \n",
       "154  J92-4003                 117              204        2.125      Author5   \n",
       "160  J93-2003                 368              707        5.875      Author4   \n",
       "\n",
       "                Author  \n",
       "149  Mercer, Robert L.  \n",
       "154  Mercer, Robert L.  \n",
       "160  Mercer, Robert L.  "
      ]
     },
     "execution_count": 11,
     "metadata": {},
     "output_type": "execute_result"
    }
   ],
   "source": [
    "data[data['Author'] == 'Mercer, Robert L.']"
   ]
  },
  {
   "cell_type": "code",
   "execution_count": 10,
   "id": "a4b4e3b0",
   "metadata": {},
   "outputs": [],
   "source": [
    "# Creating Dataframe and saving in Excel file\n",
    "indexes = pd.DataFrame()\n",
    "indexes['Author'] = author\n",
    "indexes['impact factor'] = imp_fac\n",
    "indexes['sent factor'] = s_fac\n",
    "indexes.to_excel('C:/Users/HP/Desktop/Author_impact_athar.xlsx', index = False)"
   ]
  },
  {
   "cell_type": "code",
   "execution_count": null,
   "id": "f055ecdb",
   "metadata": {},
   "outputs": [],
   "source": []
  }
 ],
 "metadata": {
  "kernelspec": {
   "display_name": "Python 3 (ipykernel)",
   "language": "python",
   "name": "python3"
  },
  "language_info": {
   "codemirror_mode": {
    "name": "ipython",
    "version": 3
   },
   "file_extension": ".py",
   "mimetype": "text/x-python",
   "name": "python",
   "nbconvert_exporter": "python",
   "pygments_lexer": "ipython3",
   "version": "3.9.13"
  }
 },
 "nbformat": 4,
 "nbformat_minor": 5
}
