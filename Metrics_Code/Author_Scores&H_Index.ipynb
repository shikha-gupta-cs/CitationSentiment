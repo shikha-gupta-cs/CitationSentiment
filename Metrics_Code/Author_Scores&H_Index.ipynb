{
 "cells": [
  {
   "cell_type": "code",
   "execution_count": 24,
   "id": "ec2917ce",
   "metadata": {},
   "outputs": [
    {
     "data": {
      "text/plain": [
       "(3069, 15)"
      ]
     },
     "execution_count": 24,
     "metadata": {},
     "output_type": "execute_result"
    }
   ],
   "source": [
    "import pandas as pd\n",
    "data1 = pd.read_excel('C:/Users/HP/Desktop/SentiScores_NSC.xlsx', header = 0)\n",
    "data2 = pd.read_excel('C:/Users/HP/Desktop/Athar_Author_new.xlsx', header = 0)\n",
    "data2.shape"
   ]
  },
  {
   "cell_type": "code",
   "execution_count": 25,
   "id": "57fb3289",
   "metadata": {},
   "outputs": [
    {
     "name": "stdout",
     "output_type": "stream",
     "text": [
      "      Paper  No of citing paper  Total Citations  Total Score\n",
      "0  A00-2024                  13               23        4.125\n",
      "1  A92-1018                  60               81        3.750\n",
      "2  C02-1007                   6               16        3.750\n",
      "3  C04-1162                   5                7        0.500\n",
      "4  C08-1005                   2                2        0.625\n",
      "      Paper          Author1                Author2          Author3 Author4  \\\n",
      "0  A00-1004      Chen, Jiang          Nie, Jian-Yun              NaN     NaN   \n",
      "1  A00-1005      Bagga, Amit    Strzalkowski, Tomek  Wise, G. Bowden     NaN   \n",
      "2  A00-1007    Jonsson, Arne         Dahlback, Nils              NaN     NaN   \n",
      "3  A00-1011   Aone, Chinatsu  Ramos-Santacruz, Mila              NaN     NaN   \n",
      "4  A00-1012  Stevenson, Mark     Gaizauskas, Robert              NaN     NaN   \n",
      "\n",
      "  Author5 Author6 Author7 Author8 Author9 Author10 Author11 Author12 Author13  \\\n",
      "0     NaN     NaN     NaN     NaN     NaN      NaN      NaN      NaN      NaN   \n",
      "1     NaN     NaN     NaN     NaN     NaN      NaN      NaN      NaN      NaN   \n",
      "2     NaN     NaN     NaN     NaN     NaN      NaN      NaN      NaN      NaN   \n",
      "3     NaN     NaN     NaN     NaN     NaN      NaN      NaN      NaN      NaN   \n",
      "4     NaN     NaN     NaN     NaN     NaN      NaN      NaN      NaN      NaN   \n",
      "\n",
      "  Author14  \n",
      "0      NaN  \n",
      "1      NaN  \n",
      "2      NaN  \n",
      "3      NaN  \n",
      "4      NaN  \n"
     ]
    }
   ],
   "source": [
    "print(data1.head())\n",
    "print(data2.head())\n",
    "data1 = data1[['Paper', 'No of citing paper', 'Total Citations', 'Total Score']]"
   ]
  },
  {
   "cell_type": "code",
   "execution_count": 27,
   "id": "8158cb23",
   "metadata": {},
   "outputs": [
    {
     "name": "stdout",
     "output_type": "stream",
     "text": [
      "         Paper  No of citing paper  Total Citations  Total Score AuthorNumber  \\\n",
      "0     A00-2024                  13               23        4.125      Author1   \n",
      "1     A00-2024                  13               23        4.125      Author2   \n",
      "2     A00-2024                  13               23        4.125      Author3   \n",
      "3     A00-2024                  13               23        4.125      Author4   \n",
      "4     A00-2024                  13               23        4.125      Author5   \n",
      "...        ...                 ...              ...          ...          ...   \n",
      "2501  W96-0213                 166              244       10.500     Author10   \n",
      "2502  W96-0213                 166              244       10.500     Author11   \n",
      "2503  W96-0213                 166              244       10.500     Author12   \n",
      "2504  W96-0213                 166              244       10.500     Author13   \n",
      "2505  W96-0213                 166              244       10.500     Author14   \n",
      "\n",
      "                 Author  \n",
      "0         Jing, Hongyan  \n",
      "1     McKeown, Kathleen  \n",
      "2                   NaN  \n",
      "3                   NaN  \n",
      "4                   NaN  \n",
      "...                 ...  \n",
      "2501                NaN  \n",
      "2502                NaN  \n",
      "2503                NaN  \n",
      "2504                NaN  \n",
      "2505                NaN  \n",
      "\n",
      "[2506 rows x 6 columns]\n"
     ]
    }
   ],
   "source": [
    "# Melting the data similar to \"Author_SelfCitation_And_EdgeList.ipynb\" \n",
    "data2_long = data2.melt(id_vars=['Paper'], value_vars=data2.columns[1:], var_name='AuthorNumber', value_name='Author')\n",
    "\n",
    "\"\"\" Merge data1 and data2_long on 'Paper Id' to get the Citation count \n",
    "and Total Sentiment score alongside the article-author pair\"\"\"\n",
    "\n",
    "result = pd.merge(data1, data2_long, on='Paper')\n",
    "\n",
    "# Print the result\n",
    "print(result)"
   ]
  },
  {
   "cell_type": "code",
   "execution_count": 28,
   "id": "8ab4f093",
   "metadata": {},
   "outputs": [],
   "source": [
    "# Removing NULL data\n",
    "result.fillna('', inplace=True)\n",
    "filtered_data = result[result['Author']!= '']"
   ]
  },
  {
   "cell_type": "code",
   "execution_count": 29,
   "id": "13ad6c02",
   "metadata": {},
   "outputs": [
    {
     "data": {
      "text/html": [
       "<div>\n",
       "<style scoped>\n",
       "    .dataframe tbody tr th:only-of-type {\n",
       "        vertical-align: middle;\n",
       "    }\n",
       "\n",
       "    .dataframe tbody tr th {\n",
       "        vertical-align: top;\n",
       "    }\n",
       "\n",
       "    .dataframe thead th {\n",
       "        text-align: right;\n",
       "    }\n",
       "</style>\n",
       "<table border=\"1\" class=\"dataframe\">\n",
       "  <thead>\n",
       "    <tr style=\"text-align: right;\">\n",
       "      <th></th>\n",
       "      <th>Paper</th>\n",
       "      <th>No of citing paper</th>\n",
       "      <th>Total Citations</th>\n",
       "      <th>Total Score</th>\n",
       "      <th>AuthorNumber</th>\n",
       "      <th>Author</th>\n",
       "    </tr>\n",
       "  </thead>\n",
       "  <tbody>\n",
       "    <tr>\n",
       "      <th>0</th>\n",
       "      <td>A00-2024</td>\n",
       "      <td>13</td>\n",
       "      <td>23</td>\n",
       "      <td>4.125</td>\n",
       "      <td>Author1</td>\n",
       "      <td>Jing, Hongyan</td>\n",
       "    </tr>\n",
       "    <tr>\n",
       "      <th>1</th>\n",
       "      <td>A00-2024</td>\n",
       "      <td>13</td>\n",
       "      <td>23</td>\n",
       "      <td>4.125</td>\n",
       "      <td>Author2</td>\n",
       "      <td>McKeown, Kathleen</td>\n",
       "    </tr>\n",
       "    <tr>\n",
       "      <th>14</th>\n",
       "      <td>A92-1018</td>\n",
       "      <td>60</td>\n",
       "      <td>81</td>\n",
       "      <td>3.750</td>\n",
       "      <td>Author1</td>\n",
       "      <td>Cutting, Doug</td>\n",
       "    </tr>\n",
       "    <tr>\n",
       "      <th>15</th>\n",
       "      <td>A92-1018</td>\n",
       "      <td>60</td>\n",
       "      <td>81</td>\n",
       "      <td>3.750</td>\n",
       "      <td>Author2</td>\n",
       "      <td>Kupiec, Julian</td>\n",
       "    </tr>\n",
       "    <tr>\n",
       "      <th>16</th>\n",
       "      <td>A92-1018</td>\n",
       "      <td>60</td>\n",
       "      <td>81</td>\n",
       "      <td>3.750</td>\n",
       "      <td>Author3</td>\n",
       "      <td>Pedersen, Jan</td>\n",
       "    </tr>\n",
       "  </tbody>\n",
       "</table>\n",
       "</div>"
      ],
      "text/plain": [
       "       Paper  No of citing paper  Total Citations  Total Score AuthorNumber  \\\n",
       "0   A00-2024                  13               23        4.125      Author1   \n",
       "1   A00-2024                  13               23        4.125      Author2   \n",
       "14  A92-1018                  60               81        3.750      Author1   \n",
       "15  A92-1018                  60               81        3.750      Author2   \n",
       "16  A92-1018                  60               81        3.750      Author3   \n",
       "\n",
       "               Author  \n",
       "0       Jing, Hongyan  \n",
       "1   McKeown, Kathleen  \n",
       "14      Cutting, Doug  \n",
       "15     Kupiec, Julian  \n",
       "16      Pedersen, Jan  "
      ]
     },
     "execution_count": 29,
     "metadata": {},
     "output_type": "execute_result"
    }
   ],
   "source": [
    "# This will contain the total no of citations and sentiment scores for each article of every author--- useful for various metrics\n",
    "filtered_data.head()"
   ]
  },
  {
   "cell_type": "code",
   "execution_count": 30,
   "id": "6036323a",
   "metadata": {},
   "outputs": [],
   "source": [
    "# Creating a unique list of Authors\n",
    "authors = []\n",
    "for i in filtered_data.index:\n",
    "    if(filtered_data['Author'][i] not in authors):\n",
    "        authors.append(filtered_data['Author'][i])"
   ]
  },
  {
   "cell_type": "code",
   "execution_count": 31,
   "id": "18330e0f",
   "metadata": {},
   "outputs": [],
   "source": [
    "ncp = []\n",
    "tc = []\n",
    "tsc = []\n",
    "# Creating lists for Total Sentiment Score, Total citations and total no of citing papers for each author\n",
    "for i in authors:\n",
    "    cp = 0\n",
    "    tot = 0\n",
    "    sc = 0\n",
    "    for j in filtered_data.index:\n",
    "        if(filtered_data['Author'][j] == i):\n",
    "            cp += filtered_data['No of citing paper'][j]\n",
    "            tot += filtered_data['Total Citations'][j]\n",
    "            sc += filtered_data['Total Score'][j]\n",
    "    ncp.append(cp)\n",
    "    tc.append(tot)\n",
    "    tsc.append(sc)"
   ]
  },
  {
   "cell_type": "code",
   "execution_count": 32,
   "id": "3a387860",
   "metadata": {},
   "outputs": [
    {
     "name": "stdout",
     "output_type": "stream",
     "text": [
      "307 307 307 307\n"
     ]
    }
   ],
   "source": [
    "print(len(authors), len(ncp), len(tc), len(tsc))"
   ]
  },
  {
   "cell_type": "code",
   "execution_count": 33,
   "id": "1b79e0ab",
   "metadata": {},
   "outputs": [],
   "source": [
    "# Storing the score values of Author in Dataframe\n",
    "df1 = pd.DataFrame()\n",
    "df1['Author'] = authors\n",
    "df1['No of Citing Papers'] = ncp\n",
    "df1['No of Citation Sentences'] = tc\n",
    "df1['Sentiment Score'] = tsc"
   ]
  },
  {
   "cell_type": "code",
   "execution_count": 34,
   "id": "6a2e8c66",
   "metadata": {},
   "outputs": [],
   "source": [
    "df1.to_excel('C:/Users/HP/Desktop/Author_scores.xlsx', index = False)"
   ]
  },
  {
   "cell_type": "code",
   "execution_count": 35,
   "id": "5aeefbec",
   "metadata": {},
   "outputs": [
    {
     "data": {
      "text/html": [
       "<div>\n",
       "<style scoped>\n",
       "    .dataframe tbody tr th:only-of-type {\n",
       "        vertical-align: middle;\n",
       "    }\n",
       "\n",
       "    .dataframe tbody tr th {\n",
       "        vertical-align: top;\n",
       "    }\n",
       "\n",
       "    .dataframe thead th {\n",
       "        text-align: right;\n",
       "    }\n",
       "</style>\n",
       "<table border=\"1\" class=\"dataframe\">\n",
       "  <thead>\n",
       "    <tr style=\"text-align: right;\">\n",
       "      <th></th>\n",
       "      <th>Paper</th>\n",
       "      <th>No of citing paper</th>\n",
       "      <th>Total Citations</th>\n",
       "      <th>Total Score</th>\n",
       "      <th>Author</th>\n",
       "    </tr>\n",
       "  </thead>\n",
       "  <tbody>\n",
       "    <tr>\n",
       "      <th>0</th>\n",
       "      <td>A00-2024</td>\n",
       "      <td>13</td>\n",
       "      <td>23</td>\n",
       "      <td>4.125</td>\n",
       "      <td>Jing, Hongyan</td>\n",
       "    </tr>\n",
       "    <tr>\n",
       "      <th>1</th>\n",
       "      <td>A00-2024</td>\n",
       "      <td>13</td>\n",
       "      <td>23</td>\n",
       "      <td>4.125</td>\n",
       "      <td>McKeown, Kathleen</td>\n",
       "    </tr>\n",
       "    <tr>\n",
       "      <th>14</th>\n",
       "      <td>A92-1018</td>\n",
       "      <td>60</td>\n",
       "      <td>81</td>\n",
       "      <td>3.750</td>\n",
       "      <td>Cutting, Doug</td>\n",
       "    </tr>\n",
       "    <tr>\n",
       "      <th>15</th>\n",
       "      <td>A92-1018</td>\n",
       "      <td>60</td>\n",
       "      <td>81</td>\n",
       "      <td>3.750</td>\n",
       "      <td>Kupiec, Julian</td>\n",
       "    </tr>\n",
       "    <tr>\n",
       "      <th>16</th>\n",
       "      <td>A92-1018</td>\n",
       "      <td>60</td>\n",
       "      <td>81</td>\n",
       "      <td>3.750</td>\n",
       "      <td>Pedersen, Jan</td>\n",
       "    </tr>\n",
       "    <tr>\n",
       "      <th>...</th>\n",
       "      <td>...</td>\n",
       "      <td>...</td>\n",
       "      <td>...</td>\n",
       "      <td>...</td>\n",
       "      <td>...</td>\n",
       "    </tr>\n",
       "    <tr>\n",
       "      <th>2451</th>\n",
       "      <td>W91-0208</td>\n",
       "      <td>5</td>\n",
       "      <td>6</td>\n",
       "      <td>0.875</td>\n",
       "      <td>Atkins, B. T. S.</td>\n",
       "    </tr>\n",
       "    <tr>\n",
       "      <th>2464</th>\n",
       "      <td>W93-0113</td>\n",
       "      <td>4</td>\n",
       "      <td>6</td>\n",
       "      <td>-0.875</td>\n",
       "      <td>Grefenstette, Gregory</td>\n",
       "    </tr>\n",
       "    <tr>\n",
       "      <th>2478</th>\n",
       "      <td>W95-0107</td>\n",
       "      <td>109</td>\n",
       "      <td>210</td>\n",
       "      <td>4.875</td>\n",
       "      <td>Ramshaw, Lance</td>\n",
       "    </tr>\n",
       "    <tr>\n",
       "      <th>2479</th>\n",
       "      <td>W95-0107</td>\n",
       "      <td>109</td>\n",
       "      <td>210</td>\n",
       "      <td>4.875</td>\n",
       "      <td>Marcus, Mitch</td>\n",
       "    </tr>\n",
       "    <tr>\n",
       "      <th>2492</th>\n",
       "      <td>W96-0213</td>\n",
       "      <td>166</td>\n",
       "      <td>244</td>\n",
       "      <td>10.500</td>\n",
       "      <td>Ratnaparkhi, Adwait</td>\n",
       "    </tr>\n",
       "  </tbody>\n",
       "</table>\n",
       "<p>425 rows × 5 columns</p>\n",
       "</div>"
      ],
      "text/plain": [
       "         Paper  No of citing paper  Total Citations  Total Score  \\\n",
       "0     A00-2024                  13               23        4.125   \n",
       "1     A00-2024                  13               23        4.125   \n",
       "14    A92-1018                  60               81        3.750   \n",
       "15    A92-1018                  60               81        3.750   \n",
       "16    A92-1018                  60               81        3.750   \n",
       "...        ...                 ...              ...          ...   \n",
       "2451  W91-0208                   5                6        0.875   \n",
       "2464  W93-0113                   4                6       -0.875   \n",
       "2478  W95-0107                 109              210        4.875   \n",
       "2479  W95-0107                 109              210        4.875   \n",
       "2492  W96-0213                 166              244       10.500   \n",
       "\n",
       "                     Author  \n",
       "0             Jing, Hongyan  \n",
       "1         McKeown, Kathleen  \n",
       "14            Cutting, Doug  \n",
       "15           Kupiec, Julian  \n",
       "16            Pedersen, Jan  \n",
       "...                     ...  \n",
       "2451       Atkins, B. T. S.  \n",
       "2464  Grefenstette, Gregory  \n",
       "2478         Ramshaw, Lance  \n",
       "2479          Marcus, Mitch  \n",
       "2492    Ratnaparkhi, Adwait  \n",
       "\n",
       "[425 rows x 5 columns]"
      ]
     },
     "execution_count": 35,
     "metadata": {},
     "output_type": "execute_result"
    }
   ],
   "source": [
    "filtered_data.drop('AuthorNumber', axis = 1)"
   ]
  },
  {
   "cell_type": "code",
   "execution_count": 36,
   "id": "6d7d2eda",
   "metadata": {},
   "outputs": [],
   "source": [
    "# Computing H-Index\n",
    "h_index = []\n",
    "for j in authors:\n",
    "    newdata = filtered_data[filtered_data['Author'] == j]\n",
    "    newdata = newdata.sort_values(by=['No of citing paper'], ascending=False)\n",
    "    i = 0\n",
    "    while i < len(newdata) and i < newdata['No of citing paper'].iloc[i]:\n",
    "        i += 1\n",
    "    h_index.append(i)\n"
   ]
  },
  {
   "cell_type": "code",
   "execution_count": 37,
   "id": "bb3d0096",
   "metadata": {},
   "outputs": [
    {
     "data": {
      "text/plain": [
       "307"
      ]
     },
     "execution_count": 37,
     "metadata": {},
     "output_type": "execute_result"
    }
   ],
   "source": [
    "len(h_index)"
   ]
  },
  {
   "cell_type": "code",
   "execution_count": null,
   "id": "f72ef577",
   "metadata": {},
   "outputs": [],
   "source": [
    "for i in range (357):\n",
    "    print(authors[i], h_index[i])"
   ]
  },
  {
   "cell_type": "code",
   "execution_count": 39,
   "id": "7c1e6a86",
   "metadata": {},
   "outputs": [
    {
     "data": {
      "text/html": [
       "<div>\n",
       "<style scoped>\n",
       "    .dataframe tbody tr th:only-of-type {\n",
       "        vertical-align: middle;\n",
       "    }\n",
       "\n",
       "    .dataframe tbody tr th {\n",
       "        vertical-align: top;\n",
       "    }\n",
       "\n",
       "    .dataframe thead th {\n",
       "        text-align: right;\n",
       "    }\n",
       "</style>\n",
       "<table border=\"1\" class=\"dataframe\">\n",
       "  <thead>\n",
       "    <tr style=\"text-align: right;\">\n",
       "      <th></th>\n",
       "      <th>Paper</th>\n",
       "      <th>No of citing paper</th>\n",
       "      <th>Total Citations</th>\n",
       "      <th>Total Score</th>\n",
       "      <th>AuthorNumber</th>\n",
       "      <th>Author</th>\n",
       "    </tr>\n",
       "  </thead>\n",
       "  <tbody>\n",
       "    <tr>\n",
       "      <th>280</th>\n",
       "      <td>D07-1013</td>\n",
       "      <td>13</td>\n",
       "      <td>21</td>\n",
       "      <td>-3.500</td>\n",
       "      <td>Author1</td>\n",
       "      <td>McDonald, Ryan</td>\n",
       "    </tr>\n",
       "    <tr>\n",
       "      <th>1596</th>\n",
       "      <td>P07-1055</td>\n",
       "      <td>2</td>\n",
       "      <td>5</td>\n",
       "      <td>2.375</td>\n",
       "      <td>Author1</td>\n",
       "      <td>McDonald, Ryan</td>\n",
       "    </tr>\n",
       "    <tr>\n",
       "      <th>1765</th>\n",
       "      <td>P08-1036</td>\n",
       "      <td>5</td>\n",
       "      <td>6</td>\n",
       "      <td>0.625</td>\n",
       "      <td>Author2</td>\n",
       "      <td>McDonald, Ryan</td>\n",
       "    </tr>\n",
       "    <tr>\n",
       "      <th>2297</th>\n",
       "      <td>W06-1615</td>\n",
       "      <td>14</td>\n",
       "      <td>48</td>\n",
       "      <td>4.625</td>\n",
       "      <td>Author2</td>\n",
       "      <td>McDonald, Ryan</td>\n",
       "    </tr>\n",
       "  </tbody>\n",
       "</table>\n",
       "</div>"
      ],
      "text/plain": [
       "         Paper  No of citing paper  Total Citations  Total Score AuthorNumber  \\\n",
       "280   D07-1013                  13               21       -3.500      Author1   \n",
       "1596  P07-1055                   2                5        2.375      Author1   \n",
       "1765  P08-1036                   5                6        0.625      Author2   \n",
       "2297  W06-1615                  14               48        4.625      Author2   \n",
       "\n",
       "              Author  \n",
       "280   McDonald, Ryan  \n",
       "1596  McDonald, Ryan  \n",
       "1765  McDonald, Ryan  \n",
       "2297  McDonald, Ryan  "
      ]
     },
     "execution_count": 39,
     "metadata": {},
     "output_type": "execute_result"
    }
   ],
   "source": [
    "filtered_data[filtered_data['Author'] == 'McDonald, Ryan']"
   ]
  },
  {
   "cell_type": "code",
   "execution_count": 40,
   "id": "0e04610a",
   "metadata": {},
   "outputs": [],
   "source": [
    "# Sentiment Based H index\n",
    "s_index = []\n",
    "for j in authors:\n",
    "    newdata = filtered_data[filtered_data['Author'] == j]\n",
    "    newdata = newdata.sort_values(by=['Total Score'], ascending=False)\n",
    "    i = 0\n",
    "    while i < len(newdata) and i < newdata['Total Score'].iloc[i]:\n",
    "        i += 1\n",
    "    s_index.append(i)"
   ]
  },
  {
   "cell_type": "code",
   "execution_count": null,
   "id": "764a03d3",
   "metadata": {},
   "outputs": [],
   "source": [
    "for i in range (357):\n",
    "    print(authors[i], s_index[i])"
   ]
  },
  {
   "cell_type": "code",
   "execution_count": 42,
   "id": "9b818761",
   "metadata": {},
   "outputs": [],
   "source": [
    "filtered_data.to_excel('C:/Users/HP/Desktop/Author_Papers_Athar.xlsx', index = False)"
   ]
  },
  {
   "cell_type": "code",
   "execution_count": 43,
   "id": "369699ea",
   "metadata": {},
   "outputs": [],
   "source": [
    "# This DF will contain the H-index and S-index\n",
    "indexes = pd.DataFrame()\n",
    "indexes['Author'] = authors\n",
    "indexes['h index'] = h_index\n",
    "indexes['s index'] = s_index\n",
    "indexes.to_excel('C:/Users/HP/Desktop/Author_indexes_athar.xlsx', index = False)"
   ]
  },
  {
   "cell_type": "code",
   "execution_count": null,
   "id": "e6521c8e",
   "metadata": {},
   "outputs": [],
   "source": []
  }
 ],
 "metadata": {
  "kernelspec": {
   "display_name": "Python 3 (ipykernel)",
   "language": "python",
   "name": "python3"
  },
  "language_info": {
   "codemirror_mode": {
    "name": "ipython",
    "version": 3
   },
   "file_extension": ".py",
   "mimetype": "text/x-python",
   "name": "python",
   "nbconvert_exporter": "python",
   "pygments_lexer": "ipython3",
   "version": "3.9.13"
  }
 },
 "nbformat": 4,
 "nbformat_minor": 5
}
