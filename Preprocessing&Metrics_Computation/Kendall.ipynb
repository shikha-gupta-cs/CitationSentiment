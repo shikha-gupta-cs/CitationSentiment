{
 "cells": [
  {
   "cell_type": "code",
   "execution_count": 2,
   "id": "f445dedc",
   "metadata": {},
   "outputs": [],
   "source": [
    "import numpy as np\n",
    "import pandas as pd\n",
    "import seaborn as sns # For pairplots and heatmaps\n",
    "import matplotlib.pyplot as plt\n",
    "from scipy.stats import kendalltau"
   ]
  },
  {
   "cell_type": "code",
   "execution_count": 6,
   "id": "9787377f",
   "metadata": {},
   "outputs": [
    {
     "name": "stdout",
     "output_type": "stream",
     "text": [
      "(3044, 8)\n",
      "Kendall's Tau: 0.5876426992894292\n",
      "P-value: 2.0266463084145285e-253\n"
     ]
    }
   ],
   "source": [
    "data6 = pd.read_excel('C:/Users/HP/Desktop/Athar_Result/Author_PageRank_55.xlsx')\n",
    "print(data6.shape)\n",
    "tau, p_value = kendalltau(data6['PageRank_Citations'], data6['PageRank_Polarity'])\n",
    "\n",
    "print(f\"Kendall's Tau: {tau}\")\n",
    "print(f\"P-value: {p_value}\")"
   ]
  },
  {
   "cell_type": "code",
   "execution_count": 7,
   "id": "4cceebbc",
   "metadata": {},
   "outputs": [
    {
     "name": "stdout",
     "output_type": "stream",
     "text": [
      "(3044, 6)\n",
      "Kendall's Tau: 0.3498037524722662\n",
      "P-value: 4.290217627400061e-91\n"
     ]
    }
   ],
   "source": [
    "data6 = pd.read_excel('C:/Users/HP/Desktop/Athar_Result/Author_PageRank_85.xlsx')\n",
    "print(data6.shape)\n",
    "tau, p_value = kendalltau(data6['PageRank_Citations'], data6['PageRank_Polarity'])\n",
    "\n",
    "print(f\"Kendall's Tau: {tau}\")\n",
    "print(f\"P-value: {p_value}\")"
   ]
  },
  {
   "cell_type": "code",
   "execution_count": 9,
   "id": "5dbaf80e",
   "metadata": {},
   "outputs": [
    {
     "name": "stdout",
     "output_type": "stream",
     "text": [
      "                     Author  h index  s index  H_Rank  S_rank    D2  rbo1  \\\n",
      "0             Marcu, Daniel        5        3     2.5     2.5  0.00     2   \n",
      "1          Collins, Michael        5        3     2.5     2.5  0.00     3   \n",
      "2  Della Pietra, Vincent J.        4        3     5.0     2.5  6.25     5   \n",
      "3              Lee, Lillian        4        3     5.0     2.5  6.25     6   \n",
      "4             Turney, Peter        3        2    14.0    17.0  9.00     9   \n",
      "\n",
      "   rbo2 Unnamed: 8    Unnamed: 9  \n",
      "0     1       6*D2  8.504610e+06  \n",
      "1     2       n3-n  2.893414e+07  \n",
      "2     3         Rs  7.060700e-01  \n",
      "3     4        NaN           NaN  \n",
      "4     5          N  3.070000e+02  \n",
      "Kendall's Tau: 0.4936920295771915\n",
      "P-value: 5.4185373610131586e-20\n"
     ]
    }
   ],
   "source": [
    "data6 = pd.read_excel('C:/Users/HP/Desktop/Athar_Result/Author_indexes_athar.xlsx')\n",
    "tau, p_value = kendalltau(data6['h index'], data6['s index'])\n",
    "\n",
    "print(f\"Kendall's Tau: {tau}\")\n",
    "print(f\"P-value: {p_value}\")"
   ]
  },
  {
   "cell_type": "code",
   "execution_count": 11,
   "id": "c3eb49f9",
   "metadata": {},
   "outputs": [
    {
     "name": "stdout",
     "output_type": "stream",
     "text": [
      "Kendall's Tau: 0.39726988840564303\n",
      "P-value: 1.0637234561930538e-26\n"
     ]
    }
   ],
   "source": [
    "data6 = pd.read_excel('C:/Users/HP/Desktop/Athar_Result/Author_impact_athar.xlsx')\n",
    "tau, p_value = kendalltau(data6['impact factor'], data6['sent factor'])\n",
    "\n",
    "print(f\"Kendall's Tau: {tau}\")\n",
    "print(f\"P-value: {p_value}\")"
   ]
  },
  {
   "cell_type": "code",
   "execution_count": 14,
   "id": "b5299048",
   "metadata": {},
   "outputs": [
    {
     "name": "stdout",
     "output_type": "stream",
     "text": [
      "Kendall's Tau: 0.43293338373620965\n",
      "P-value: 2.3593511503532332e-27\n"
     ]
    }
   ],
   "source": [
    "data6 = pd.read_excel('C:/Users/HP/Desktop/Athar_Result/Author_scores.xlsx')\n",
    "tau, p_value = kendalltau(data6['No of Citing Papers'], data6['Sentiment Score'])\n",
    "\n",
    "print(f\"Kendall's Tau: {tau}\")\n",
    "print(f\"P-value: {p_value}\")"
   ]
  },
  {
   "cell_type": "code",
   "execution_count": 16,
   "id": "fae1ac18",
   "metadata": {},
   "outputs": [
    {
     "name": "stdout",
     "output_type": "stream",
     "text": [
      "      Paper  No of citing paper  Total Citations  Total Score  Rank_Cit  \\\n",
      "0  J93-2004                 434              626       62.125       1.0   \n",
      "1  J96-2004                 121              152       60.750      12.0   \n",
      "2  N03-1017                 218              386       41.250       5.0   \n",
      "3  P97-1003                 177              323       35.625       7.0   \n",
      "4  P02-1040                 303              367       34.940       3.0   \n",
      "\n",
      "   Rank_Sent  \n",
      "0        1.0  \n",
      "1        2.0  \n",
      "2        3.0  \n",
      "3        4.0  \n",
      "4        5.0  \n",
      "Kendall's Tau: 0.4186851079794948\n",
      "P-value: 1.1898054882468461e-15\n"
     ]
    }
   ],
   "source": [
    "data6 = pd.read_excel('C:/Users/HP/Desktop/Athar_Result/SentiScores_NSC.xlsx')\n",
    "print(data6.head())\n",
    "tau, p_value = kendalltau(data6['No of citing paper'], data6['Total Score'])\n",
    "\n",
    "print(f\"Kendall's Tau: {tau}\")\n",
    "print(f\"P-value: {p_value}\")"
   ]
  },
  {
   "cell_type": "code",
   "execution_count": 18,
   "id": "b62c2096",
   "metadata": {},
   "outputs": [
    {
     "name": "stdout",
     "output_type": "stream",
     "text": [
      "Kendall's Tau: -0.009705818579360518\n",
      "P-value: 0.40776969319902323\n"
     ]
    }
   ],
   "source": [
    "data6 = pd.read_excel('C:/Users/HP/Desktop/SciCite_Results/SciCite_SentiScores_NSC.xlsx')\n",
    "tau, p_value = kendalltau(data6['No of citing paper'], data6['Total Score'])\n",
    "\n",
    "print(f\"Kendall's Tau: {tau}\")\n",
    "print(f\"P-value: {p_value}\")"
   ]
  },
  {
   "cell_type": "code",
   "execution_count": 20,
   "id": "2296095b",
   "metadata": {},
   "outputs": [
    {
     "name": "stdout",
     "output_type": "stream",
     "text": [
      "Kendall's Tau: 0.0017856380656942688\n",
      "P-value: 0.7425715511850453\n"
     ]
    }
   ],
   "source": [
    "data6 = pd.read_excel('C:/Users/HP/Desktop/SciCite_Results/SciCite_Author_scores.xlsx')\n",
    "tau, p_value = kendalltau(data6['No of Citing Papers'], data6['Sentiment Score'])\n",
    "\n",
    "print(f\"Kendall's Tau: {tau}\")\n",
    "print(f\"P-value: {p_value}\")"
   ]
  },
  {
   "cell_type": "code",
   "execution_count": 23,
   "id": "6dac1266",
   "metadata": {},
   "outputs": [
    {
     "name": "stdout",
     "output_type": "stream",
     "text": [
      "Kendall's Tau: 0.013977511787823464\n",
      "P-value: 0.008890691882504081\n"
     ]
    }
   ],
   "source": [
    "data6 = pd.read_excel('C:/Users/HP/Desktop/SciCite_Results/Author_Impact_SciCite.xlsx')\n",
    "tau, p_value = kendalltau(data6['Impact_Factor'], data6['Sent_Factor'])\n",
    "\n",
    "print(f\"Kendall's Tau: {tau}\")\n",
    "print(f\"P-value: {p_value}\")"
   ]
  },
  {
   "cell_type": "code",
   "execution_count": 24,
   "id": "0b7dc693",
   "metadata": {},
   "outputs": [
    {
     "name": "stdout",
     "output_type": "stream",
     "text": [
      "Kendall's Tau: 0.016753952072451492\n",
      "P-value: 0.009400567404690554\n"
     ]
    }
   ],
   "source": [
    "data6 = pd.read_excel('C:/Users/HP/Desktop/SciCite_Results/Author_indexes_SciCite.xlsx')\n",
    "tau, p_value = kendalltau(data6['h index'], data6['s index'])\n",
    "\n",
    "print(f\"Kendall's Tau: {tau}\")\n",
    "print(f\"P-value: {p_value}\")"
   ]
  },
  {
   "cell_type": "code",
   "execution_count": 25,
   "id": "5c666b93",
   "metadata": {},
   "outputs": [
    {
     "name": "stdout",
     "output_type": "stream",
     "text": [
      "Kendall's Tau: 0.7943910274194302\n",
      "P-value: 0.0\n"
     ]
    }
   ],
   "source": [
    "data6 = pd.read_excel('C:/Users/HP/Desktop/SciCite_Author_PageRank_85.xlsx')\n",
    "tau, p_value = kendalltau(data6['PageRank_Citations'], data6['PageRank_Polarity'])\n",
    "\n",
    "print(f\"Kendall's Tau: {tau}\")\n",
    "print(f\"P-value: {p_value}\")"
   ]
  },
  {
   "cell_type": "code",
   "execution_count": 26,
   "id": "00d57404",
   "metadata": {},
   "outputs": [
    {
     "name": "stdout",
     "output_type": "stream",
     "text": [
      "Kendall's Tau: 0.7948296924962591\n",
      "P-value: 0.0\n"
     ]
    }
   ],
   "source": [
    "data6 = pd.read_excel('C:/Users/HP/Desktop/SciCite_Author_PageRank_55.xlsx')\n",
    "tau, p_value = kendalltau(data6['PageRank_Citations'], data6['PageRank_Polarity'])\n",
    "\n",
    "print(f\"Kendall's Tau: {tau}\")\n",
    "print(f\"P-value: {p_value}\")"
   ]
  },
  {
   "cell_type": "code",
   "execution_count": null,
   "id": "aa7b916a",
   "metadata": {},
   "outputs": [],
   "source": []
  }
 ],
 "metadata": {
  "kernelspec": {
   "display_name": "Python 3 (ipykernel)",
   "language": "python",
   "name": "python3"
  },
  "language_info": {
   "codemirror_mode": {
    "name": "ipython",
    "version": 3
   },
   "file_extension": ".py",
   "mimetype": "text/x-python",
   "name": "python",
   "nbconvert_exporter": "python",
   "pygments_lexer": "ipython3",
   "version": "3.9.13"
  }
 },
 "nbformat": 4,
 "nbformat_minor": 5
}
