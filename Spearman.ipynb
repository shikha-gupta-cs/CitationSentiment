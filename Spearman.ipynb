{
 "cells": [
  {
   "cell_type": "code",
   "execution_count": 23,
   "id": "8794797e",
   "metadata": {},
   "outputs": [],
   "source": [
    "import numpy as np\n",
    "import pandas as pd\n",
    "import seaborn as sns # For pairplots and heatmaps\n",
    "import matplotlib.pyplot as plt"
   ]
  },
  {
   "cell_type": "code",
   "execution_count": 24,
   "id": "8e24533d",
   "metadata": {},
   "outputs": [],
   "source": [
    "data = pd.read_excel('C:/Users/HP/Desktop/SentiScores.xlsx')"
   ]
  },
  {
   "cell_type": "code",
   "execution_count": 25,
   "id": "ba005586",
   "metadata": {},
   "outputs": [
    {
     "data": {
      "text/html": [
       "<div>\n",
       "<style scoped>\n",
       "    .dataframe tbody tr th:only-of-type {\n",
       "        vertical-align: middle;\n",
       "    }\n",
       "\n",
       "    .dataframe tbody tr th {\n",
       "        vertical-align: top;\n",
       "    }\n",
       "\n",
       "    .dataframe thead th {\n",
       "        text-align: right;\n",
       "    }\n",
       "</style>\n",
       "<table border=\"1\" class=\"dataframe\">\n",
       "  <thead>\n",
       "    <tr style=\"text-align: right;\">\n",
       "      <th></th>\n",
       "      <th>Paper</th>\n",
       "      <th>No of citing paper</th>\n",
       "      <th>Total Citations</th>\n",
       "      <th>Total Score</th>\n",
       "      <th>Rank_Cit</th>\n",
       "      <th>Rank_Sent</th>\n",
       "      <th>Unnamed: 6</th>\n",
       "      <th>Unnamed: 7</th>\n",
       "      <th>Unnamed: 8</th>\n",
       "      <th>Unnamed: 9</th>\n",
       "      <th>Unnamed: 10</th>\n",
       "    </tr>\n",
       "  </thead>\n",
       "  <tbody>\n",
       "    <tr>\n",
       "      <th>0</th>\n",
       "      <td>J96-2004</td>\n",
       "      <td>125</td>\n",
       "      <td>156</td>\n",
       "      <td>65.000</td>\n",
       "      <td>12</td>\n",
       "      <td>1</td>\n",
       "      <td>NaN</td>\n",
       "      <td>NaN</td>\n",
       "      <td>NaN</td>\n",
       "      <td>NaN</td>\n",
       "      <td>0.531033</td>\n",
       "    </tr>\n",
       "    <tr>\n",
       "      <th>1</th>\n",
       "      <td>J93-2004</td>\n",
       "      <td>436</td>\n",
       "      <td>628</td>\n",
       "      <td>62.500</td>\n",
       "      <td>1</td>\n",
       "      <td>2</td>\n",
       "      <td>NaN</td>\n",
       "      <td>NaN</td>\n",
       "      <td>NaN</td>\n",
       "      <td>NaN</td>\n",
       "      <td>0.531033</td>\n",
       "    </tr>\n",
       "    <tr>\n",
       "      <th>2</th>\n",
       "      <td>N03-1017</td>\n",
       "      <td>237</td>\n",
       "      <td>417</td>\n",
       "      <td>42.375</td>\n",
       "      <td>5</td>\n",
       "      <td>3</td>\n",
       "      <td>NaN</td>\n",
       "      <td>NaN</td>\n",
       "      <td>NaN</td>\n",
       "      <td>NaN</td>\n",
       "      <td>NaN</td>\n",
       "    </tr>\n",
       "    <tr>\n",
       "      <th>3</th>\n",
       "      <td>P02-1040</td>\n",
       "      <td>305</td>\n",
       "      <td>369</td>\n",
       "      <td>35.690</td>\n",
       "      <td>3</td>\n",
       "      <td>4</td>\n",
       "      <td>NaN</td>\n",
       "      <td>NaN</td>\n",
       "      <td>NaN</td>\n",
       "      <td>NaN</td>\n",
       "      <td>NaN</td>\n",
       "    </tr>\n",
       "    <tr>\n",
       "      <th>4</th>\n",
       "      <td>P97-1003</td>\n",
       "      <td>182</td>\n",
       "      <td>340</td>\n",
       "      <td>35.375</td>\n",
       "      <td>7</td>\n",
       "      <td>5</td>\n",
       "      <td>NaN</td>\n",
       "      <td>NaN</td>\n",
       "      <td>NaN</td>\n",
       "      <td>NaN</td>\n",
       "      <td>NaN</td>\n",
       "    </tr>\n",
       "  </tbody>\n",
       "</table>\n",
       "</div>"
      ],
      "text/plain": [
       "      Paper  No of citing paper  Total Citations  Total Score  Rank_Cit  \\\n",
       "0  J96-2004                 125              156       65.000        12   \n",
       "1  J93-2004                 436              628       62.500         1   \n",
       "2  N03-1017                 237              417       42.375         5   \n",
       "3  P02-1040                 305              369       35.690         3   \n",
       "4  P97-1003                 182              340       35.375         7   \n",
       "\n",
       "   Rank_Sent  Unnamed: 6  Unnamed: 7  Unnamed: 8  Unnamed: 9  Unnamed: 10  \n",
       "0          1         NaN         NaN         NaN         NaN     0.531033  \n",
       "1          2         NaN         NaN         NaN         NaN     0.531033  \n",
       "2          3         NaN         NaN         NaN         NaN          NaN  \n",
       "3          4         NaN         NaN         NaN         NaN          NaN  \n",
       "4          5         NaN         NaN         NaN         NaN          NaN  "
      ]
     },
     "execution_count": 25,
     "metadata": {},
     "output_type": "execute_result"
    }
   ],
   "source": [
    "data.head()"
   ]
  },
  {
   "cell_type": "code",
   "execution_count": 27,
   "id": "8fa09b2b",
   "metadata": {},
   "outputs": [
    {
     "name": "stdout",
     "output_type": "stream",
     "text": [
      "Spearmans correlation coefficient: 0.54500\n",
      "2.1106460540351289e-16\n",
      "Pearsons correlation coefficient: 0.53103\n",
      "1.649053996647872e-15\n"
     ]
    }
   ],
   "source": [
    "# Calculating for Athars Dataset\n",
    "# calculate the spearman's correlation between two variables\n",
    "from numpy.random import rand\n",
    "from numpy.random import seed\n",
    "from scipy.stats import spearmanr\n",
    "from scipy.stats import pearsonr\n",
    "# calculate spearman's correlation\n",
    "coef, p = spearmanr(data['Rank_Cit'], data['Rank_Sent'])\n",
    "c , pv = pearsonr(data['Rank_Cit'], data['Rank_Sent'])\n",
    "print('Spearmans correlation coefficient: %.5f' % coef)\n",
    "# interpret the significance\n",
    "print( p)\n",
    "print('Pearsons correlation coefficient: %.5f' % c)\n",
    "# interpret the significance\n",
    "print( pv)\n"
   ]
  },
  {
   "cell_type": "code",
   "execution_count": 28,
   "id": "b84e1002",
   "metadata": {},
   "outputs": [
    {
     "name": "stdout",
     "output_type": "stream",
     "text": [
      "Spearmans correlation coefficient: -0.01082\n",
      "0.3849077917474175\n"
     ]
    }
   ],
   "source": [
    "# Calculating for SciCite Dataset\n",
    "data2 = pd.read_excel('C:/Users/HP/Desktop/SentiScores_scicite.xlsx')\n",
    "coef2, p2 = spearmanr(data2['Rank_Cit'], data2['Rank_sent'])\n",
    "print('Spearmans correlation coefficient: %.5f' % coef2)\n",
    "# interpret the significance\n",
    "print( p2)"
   ]
  },
  {
   "cell_type": "code",
   "execution_count": null,
   "id": "f48aee85",
   "metadata": {},
   "outputs": [],
   "source": []
  }
 ],
 "metadata": {
  "kernelspec": {
   "display_name": "Python 3 (ipykernel)",
   "language": "python",
   "name": "python3"
  },
  "language_info": {
   "codemirror_mode": {
    "name": "ipython",
    "version": 3
   },
   "file_extension": ".py",
   "mimetype": "text/x-python",
   "name": "python",
   "nbconvert_exporter": "python",
   "pygments_lexer": "ipython3",
   "version": "3.9.13"
  }
 },
 "nbformat": 4,
 "nbformat_minor": 5
}
