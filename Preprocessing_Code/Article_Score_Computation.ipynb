{
 "cells": [
  {
   "cell_type": "code",
   "execution_count": 11,
   "id": "2280cdfe",
   "metadata": {},
   "outputs": [
    {
     "data": {
      "text/plain": [
       "(8736, 6)"
      ]
     },
     "execution_count": 11,
     "metadata": {},
     "output_type": "execute_result"
    }
   ],
   "source": [
    "import pandas as pd\n",
    "data = pd.read_excel('C:/Users/HP/Desktop/SentiWordNet_Citation.xlsx', header = 0)\n",
    "data2 = pd.read_excel('C:/Users/HP/Desktop/Author_Self_Citations.xlsx', header = 0)\n",
    "data.shape"
   ]
  },
  {
   "cell_type": "code",
   "execution_count": 12,
   "id": "a79bb8a7",
   "metadata": {},
   "outputs": [
    {
     "data": {
      "text/html": [
       "<div>\n",
       "<style scoped>\n",
       "    .dataframe tbody tr th:only-of-type {\n",
       "        vertical-align: middle;\n",
       "    }\n",
       "\n",
       "    .dataframe tbody tr th {\n",
       "        vertical-align: top;\n",
       "    }\n",
       "\n",
       "    .dataframe thead th {\n",
       "        text-align: right;\n",
       "    }\n",
       "</style>\n",
       "<table border=\"1\" class=\"dataframe\">\n",
       "  <thead>\n",
       "    <tr style=\"text-align: right;\">\n",
       "      <th></th>\n",
       "      <th>Source</th>\n",
       "      <th>target</th>\n",
       "      <th>sentiment</th>\n",
       "      <th>sentence</th>\n",
       "      <th>p_score</th>\n",
       "    </tr>\n",
       "  </thead>\n",
       "  <tbody>\n",
       "    <tr>\n",
       "      <th>1</th>\n",
       "      <td>H05-1033</td>\n",
       "      <td>A00-2024</td>\n",
       "      <td>o</td>\n",
       "      <td>Table 3: Example compressions Compression AvgL...</td>\n",
       "      <td>0.000</td>\n",
       "    </tr>\n",
       "    <tr>\n",
       "      <th>2</th>\n",
       "      <td>I05-2009</td>\n",
       "      <td>A00-2024</td>\n",
       "      <td>o</td>\n",
       "      <td>5.3 Related works and discussion Our two-step ...</td>\n",
       "      <td>0.500</td>\n",
       "    </tr>\n",
       "    <tr>\n",
       "      <th>3</th>\n",
       "      <td>I05-2009</td>\n",
       "      <td>A00-2024</td>\n",
       "      <td>o</td>\n",
       "      <td>(1999) proposed a summarization system based o...</td>\n",
       "      <td>0.500</td>\n",
       "    </tr>\n",
       "    <tr>\n",
       "      <th>4</th>\n",
       "      <td>I05-2009</td>\n",
       "      <td>A00-2024</td>\n",
       "      <td>o</td>\n",
       "      <td>We found that the deletion of lead parts did n...</td>\n",
       "      <td>0.000</td>\n",
       "    </tr>\n",
       "    <tr>\n",
       "      <th>5</th>\n",
       "      <td>I08-1016</td>\n",
       "      <td>A00-2024</td>\n",
       "      <td>o</td>\n",
       "      <td>Automatic text summarization approaches have o...</td>\n",
       "      <td>1.250</td>\n",
       "    </tr>\n",
       "    <tr>\n",
       "      <th>...</th>\n",
       "      <td>...</td>\n",
       "      <td>...</td>\n",
       "      <td>...</td>\n",
       "      <td>...</td>\n",
       "      <td>...</td>\n",
       "    </tr>\n",
       "    <tr>\n",
       "      <th>13071</th>\n",
       "      <td>W98-1118</td>\n",
       "      <td>W96-0213</td>\n",
       "      <td>p</td>\n",
       "      <td>He has achieved state-of-the art results by ap...</td>\n",
       "      <td>0.000</td>\n",
       "    </tr>\n",
       "    <tr>\n",
       "      <th>13072</th>\n",
       "      <td>W99-0606</td>\n",
       "      <td>W96-0213</td>\n",
       "      <td>o</td>\n",
       "      <td>B = (Brill and Wu, 1998); M = (Magerman, 1995)...</td>\n",
       "      <td>0.000</td>\n",
       "    </tr>\n",
       "    <tr>\n",
       "      <th>13073</th>\n",
       "      <td>W99-0607</td>\n",
       "      <td>W96-0213</td>\n",
       "      <td>o</td>\n",
       "      <td>The model we use is similar to that of (Ratnap...</td>\n",
       "      <td>0.000</td>\n",
       "    </tr>\n",
       "    <tr>\n",
       "      <th>13074</th>\n",
       "      <td>W99-0607</td>\n",
       "      <td>W96-0213</td>\n",
       "      <td>p</td>\n",
       "      <td>Our model exploits the same kind of tag-n-gram...</td>\n",
       "      <td>0.625</td>\n",
       "    </tr>\n",
       "    <tr>\n",
       "      <th>13075</th>\n",
       "      <td>W99-0608</td>\n",
       "      <td>W96-0213</td>\n",
       "      <td>o</td>\n",
       "      <td>In that table, TBL stands for Brill's transfor...</td>\n",
       "      <td>0.000</td>\n",
       "    </tr>\n",
       "  </tbody>\n",
       "</table>\n",
       "<p>8058 rows × 5 columns</p>\n",
       "</div>"
      ],
      "text/plain": [
       "         Source    target sentiment  \\\n",
       "1      H05-1033  A00-2024         o   \n",
       "2      I05-2009  A00-2024         o   \n",
       "3      I05-2009  A00-2024         o   \n",
       "4      I05-2009  A00-2024         o   \n",
       "5      I08-1016  A00-2024         o   \n",
       "...         ...       ...       ...   \n",
       "13071  W98-1118  W96-0213         p   \n",
       "13072  W99-0606  W96-0213         o   \n",
       "13073  W99-0607  W96-0213         o   \n",
       "13074  W99-0607  W96-0213         p   \n",
       "13075  W99-0608  W96-0213         o   \n",
       "\n",
       "                                                sentence  p_score  \n",
       "1      Table 3: Example compressions Compression AvgL...    0.000  \n",
       "2      5.3 Related works and discussion Our two-step ...    0.500  \n",
       "3      (1999) proposed a summarization system based o...    0.500  \n",
       "4      We found that the deletion of lead parts did n...    0.000  \n",
       "5      Automatic text summarization approaches have o...    1.250  \n",
       "...                                                  ...      ...  \n",
       "13071  He has achieved state-of-the art results by ap...    0.000  \n",
       "13072  B = (Brill and Wu, 1998); M = (Magerman, 1995)...    0.000  \n",
       "13073  The model we use is similar to that of (Ratnap...    0.000  \n",
       "13074  Our model exploits the same kind of tag-n-gram...    0.625  \n",
       "13075  In that table, TBL stands for Brill's transfor...    0.000  \n",
       "\n",
       "[8058 rows x 5 columns]"
      ]
     },
     "execution_count": 12,
     "metadata": {},
     "output_type": "execute_result"
    }
   ],
   "source": [
    "import pandas as pd\n",
    "\n",
    "# Merging df and new_data on the appropriate columns\n",
    "# to remove self-citations\n",
    "merged_data = pd.merge(data, data2, left_on=['Source', 'target'], right_on=['Citing PaperID', 'Cited PaperID'], how='left', indicator=True)\n",
    "filtered_df = merged_data[merged_data['_merge'] == 'left_only']\n",
    "filtered_df.drop(['Unnamed: 0', 'Citing PaperID', 'Citing Author', 'Cited PaperID', 'Cited Author', 'Sentence', 'P_Score','_merge'], axis = 1)"
   ]
  },
  {
   "cell_type": "code",
   "execution_count": 14,
   "id": "0d31b3bc",
   "metadata": {},
   "outputs": [],
   "source": [
    "# Getting the list of unique Cited Papers\n",
    "target = []\n",
    "for i in filtered_df.index:\n",
    "    if(filtered_df['target'][i] not in target):\n",
    "        target.append(filtered_df['target'][i])\n",
    "    "
   ]
  },
  {
   "cell_type": "code",
   "execution_count": 15,
   "id": "7905dd2f",
   "metadata": {},
   "outputs": [
    {
     "data": {
      "text/plain": [
       "179"
      ]
     },
     "execution_count": 15,
     "metadata": {},
     "output_type": "execute_result"
    }
   ],
   "source": [
    "len(target)"
   ]
  },
  {
   "cell_type": "code",
   "execution_count": 18,
   "id": "7be94583",
   "metadata": {},
   "outputs": [],
   "source": [
    "ncp = []\n",
    "nc = []\n",
    "tsc = []\n",
    "\n",
    "# counting the no of distint citing articles for each cited articles and creating a list of citation counts\n",
    "for i in target:\n",
    "    src = []\n",
    "    cnt = 0\n",
    "    for j in filtered_df.index:\n",
    "        if(filtered_df['target'][j] == i and filtered_df['Source'][j] not in src):\n",
    "            src.append(filtered_df['Source'][j])\n",
    "            cnt += 1\n",
    "    ncp.append(cnt)\n",
    "    \n",
    "\"\"\"counting the total number of citation senteces and the total sum of Sentiment scores \n",
    "for each cited articles and creating lists for them\"\"\"\n",
    "for i in target:\n",
    "    tot = 0\n",
    "    ct = 0\n",
    "    for j in filtered_df.index:\n",
    "        if(filtered_df['target'][j] == i):\n",
    "            tot+= filtered_df['p_score'][j]\n",
    "            ct += 1\n",
    "    tsc.append(tot)\n",
    "    nc.append(ct)\n",
    "    "
   ]
  },
  {
   "cell_type": "code",
   "execution_count": 19,
   "id": "a5b22044",
   "metadata": {},
   "outputs": [
    {
     "name": "stdout",
     "output_type": "stream",
     "text": [
      "179 179 179\n"
     ]
    }
   ],
   "source": [
    "print(len(ncp), len(nc), len(tsc))"
   ]
  },
  {
   "cell_type": "code",
   "execution_count": 20,
   "id": "5c9d6228",
   "metadata": {},
   "outputs": [],
   "source": [
    "df = pd.DataFrame()"
   ]
  },
  {
   "cell_type": "code",
   "execution_count": 21,
   "id": "e2d392b7",
   "metadata": {},
   "outputs": [],
   "source": [
    "#Creating a Dataframe for storing these data\n",
    "df['Paper'] = target\n",
    "df['No of citing paper'] = ncp\n",
    "df['Total Citations'] = nc\n",
    "df['Total Score'] = tsc"
   ]
  },
  {
   "cell_type": "code",
   "execution_count": 22,
   "id": "99b7f5ed",
   "metadata": {},
   "outputs": [
    {
     "data": {
      "text/html": [
       "<div>\n",
       "<style scoped>\n",
       "    .dataframe tbody tr th:only-of-type {\n",
       "        vertical-align: middle;\n",
       "    }\n",
       "\n",
       "    .dataframe tbody tr th {\n",
       "        vertical-align: top;\n",
       "    }\n",
       "\n",
       "    .dataframe thead th {\n",
       "        text-align: right;\n",
       "    }\n",
       "</style>\n",
       "<table border=\"1\" class=\"dataframe\">\n",
       "  <thead>\n",
       "    <tr style=\"text-align: right;\">\n",
       "      <th></th>\n",
       "      <th>Paper</th>\n",
       "      <th>No of citing paper</th>\n",
       "      <th>Total Citations</th>\n",
       "      <th>Total Score</th>\n",
       "    </tr>\n",
       "  </thead>\n",
       "  <tbody>\n",
       "    <tr>\n",
       "      <th>0</th>\n",
       "      <td>A00-2024</td>\n",
       "      <td>13</td>\n",
       "      <td>23</td>\n",
       "      <td>4.125</td>\n",
       "    </tr>\n",
       "    <tr>\n",
       "      <th>1</th>\n",
       "      <td>A92-1018</td>\n",
       "      <td>60</td>\n",
       "      <td>81</td>\n",
       "      <td>3.750</td>\n",
       "    </tr>\n",
       "    <tr>\n",
       "      <th>2</th>\n",
       "      <td>C02-1007</td>\n",
       "      <td>6</td>\n",
       "      <td>16</td>\n",
       "      <td>3.750</td>\n",
       "    </tr>\n",
       "    <tr>\n",
       "      <th>3</th>\n",
       "      <td>C04-1162</td>\n",
       "      <td>5</td>\n",
       "      <td>7</td>\n",
       "      <td>0.500</td>\n",
       "    </tr>\n",
       "    <tr>\n",
       "      <th>4</th>\n",
       "      <td>C08-1005</td>\n",
       "      <td>2</td>\n",
       "      <td>2</td>\n",
       "      <td>0.625</td>\n",
       "    </tr>\n",
       "  </tbody>\n",
       "</table>\n",
       "</div>"
      ],
      "text/plain": [
       "      Paper  No of citing paper  Total Citations  Total Score\n",
       "0  A00-2024                  13               23        4.125\n",
       "1  A92-1018                  60               81        3.750\n",
       "2  C02-1007                   6               16        3.750\n",
       "3  C04-1162                   5                7        0.500\n",
       "4  C08-1005                   2                2        0.625"
      ]
     },
     "execution_count": 22,
     "metadata": {},
     "output_type": "execute_result"
    }
   ],
   "source": [
    "df.head()"
   ]
  },
  {
   "cell_type": "code",
   "execution_count": 23,
   "id": "89b41297",
   "metadata": {},
   "outputs": [],
   "source": [
    "df.to_excel('C:/Users/HP/Desktop/SentiScores_NSC.xlsx', sheet_name = 'Sheet_1', index = None)"
   ]
  },
  {
   "cell_type": "code",
   "execution_count": null,
   "id": "f1d268b0",
   "metadata": {},
   "outputs": [],
   "source": []
  }
 ],
 "metadata": {
  "kernelspec": {
   "display_name": "Python 3 (ipykernel)",
   "language": "python",
   "name": "python3"
  },
  "language_info": {
   "codemirror_mode": {
    "name": "ipython",
    "version": 3
   },
   "file_extension": ".py",
   "mimetype": "text/x-python",
   "name": "python",
   "nbconvert_exporter": "python",
   "pygments_lexer": "ipython3",
   "version": "3.9.13"
  }
 },
 "nbformat": 4,
 "nbformat_minor": 5
}
