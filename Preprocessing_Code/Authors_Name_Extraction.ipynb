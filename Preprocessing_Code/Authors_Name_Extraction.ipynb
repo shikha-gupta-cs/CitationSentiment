{
 "cells": [
  {
   "cell_type": "code",
   "execution_count": null,
   "id": "08b58c98",
   "metadata": {},
   "outputs": [],
   "source": [
    "import pandas as pd\n",
    "data = pd.read_csv('citation sentiment.txt', header = None, sep = '\\t')\n",
    "cited = data[1]\n",
    "citing = data[0]\n",
    "citing"
   ]
  },
  {
   "cell_type": "code",
   "execution_count": null,
   "id": "91428fe6",
   "metadata": {},
   "outputs": [],
   "source": [
    "#Finding the unique articles to find authors for each unique article\n",
    "unique = []\n",
    "for i in cited:\n",
    "    if(i not in unique):\n",
    "        unique.append(i)\n",
    "for i in citing:\n",
    "    if(i not in unique):\n",
    "        unique.append(i)\n",
    "len(unique)"
   ]
  },
  {
   "cell_type": "code",
   "execution_count": null,
   "id": "72272ee5",
   "metadata": {},
   "outputs": [],
   "source": [
    "# Storing the unique Articles in an excel file\n",
    "df = pd.DataFrame(unique, columns = ['Paper'])\n",
    "df.to_excel('C:/Users/HP/Desktop/Unique_Papers_Athar.xlsx', index = None)"
   ]
  },
  {
   "cell_type": "code",
   "execution_count": null,
   "id": "ecd16fa3",
   "metadata": {
    "scrolled": true
   },
   "outputs": [],
   "source": [
    "import requests\n",
    "import re\n",
    "import pandas as pd\n",
    "import html\n",
    "df = pd.read_excel('C:/Users/HP/Desktop/Unique_Papers_Athar.xlsx', header = 0)\n",
    "\n",
    "# url = \"https://aclanthology.org/J93-2003\"\n",
    "authors = []  # Creating an empty list to store journal names\n",
    "#  Extracting the authors using regex\n",
    "for i in df['Paper']:\n",
    "    url = \"https://aclanthology.org/\" + i\n",
    "    try:\n",
    "        response = requests.get(url)\n",
    "        response.raise_for_status()  # Raise an exception if the response status is not 2xx\n",
    "        author_list = re.findall(r'%A\\s+(.+)', response.text)\n",
    "        authors.append(author_list)\n",
    "    except requests.RequestException as e:\n",
    "        authors.append('NA')\n",
    "        print(authors)\n",
    "        print(f\"Error fetching {url}: {e}\")"
   ]
  },
  {
   "cell_type": "code",
   "execution_count": null,
   "id": "1bdb371d",
   "metadata": {},
   "outputs": [],
   "source": [
    "len(authors)"
   ]
  },
  {
   "cell_type": "code",
   "execution_count": null,
   "id": "66f2c4e8",
   "metadata": {},
   "outputs": [],
   "source": [
    "def split_sublist(row):\n",
    "    return pd.Series(row)\n",
    "\n",
    "# Apply the function to each row and store the results in new columns\n",
    "df_new = df.apply(lambda row: split_sublist(authors[row.name]), axis=1)\n",
    "\n",
    "# Combine the new DataFrame with the original DataFrame\n",
    "df_combined = pd.concat([df, df_new], axis=1)\n",
    "\n",
    "# Rename the new columns as desired\n",
    "df_combined.rename(columns={0: 'Author1', 1: 'Author2', 2: 'Author3', 3: 'Author4', 4: 'Author5', 5: 'Author6', 6: 'Author7', 7: 'Author8', 8: 'Author9' ,9: 'Author10', 10: 'Author11', 11: 'Author12', 12 : 'Author13', 13: 'Author14'}, inplace=True)\n",
    "\n",
    "# print(df_combined)\n",
    "df_combined.fillna('', inplace=True)\n",
    "\n",
    "# print(df_combined)\n",
    "df_combined.to_excel('C:/Users/HP/Desktop/Athar_Authors.xlsx', index = None)"
   ]
  },
  {
   "cell_type": "code",
   "execution_count": null,
   "id": "8a6103a4",
   "metadata": {},
   "outputs": [],
   "source": [
    "# Finding the data of articles for which no author was found\n",
    "notdone = df_combined[df_combined['Author1'] == 'NA']"
   ]
  },
  {
   "cell_type": "code",
   "execution_count": null,
   "id": "6bbf02e2",
   "metadata": {},
   "outputs": [],
   "source": [
    "notdone.head"
   ]
  },
  {
   "cell_type": "code",
   "execution_count": null,
   "id": "46f74600",
   "metadata": {},
   "outputs": [],
   "source": [
    "\"\"\" Reiterating the process so that the Articles left due to request error \n",
    "or network issue can be extracted in this iteration\"\"\"\n",
    "\n",
    "author = []  # Create an empty list to store journal names\n",
    "#  Extract the authors using regex\n",
    "for i in notdone['Paper']:\n",
    "    url = \"https://aclanthology.org/\" + i\n",
    "    a = [i]\n",
    "    try:\n",
    "        response = requests.get(url)\n",
    "        response.raise_for_status()  # Raise an exception if the response status is not 2xx\n",
    "        author_list = re.findall(r'%A\\s+(.+)', response.text)\n",
    "        a.extend(author_list)\n",
    "        author.append(a)\n",
    "    except requests.RequestException as e:\n",
    "        a.append('NA')\n",
    "        author.append(a)\n",
    "        print(author)\n",
    "        print(f\"Error fetching {url}: {e}\")"
   ]
  },
  {
   "cell_type": "code",
   "execution_count": null,
   "id": "a02949b2",
   "metadata": {},
   "outputs": [],
   "source": [
    "# Extracting the Articles and authors for which data was found earlier\n",
    "done = df_combined[df_combined['Author1'] != 'NA']"
   ]
  },
  {
   "cell_type": "code",
   "execution_count": null,
   "id": "94865de9",
   "metadata": {},
   "outputs": [],
   "source": [
    "ndf = pd.DataFrame(author)\n",
    "ndf.head()\n",
    "nc = [f\"Author{i+1}\" for i in range(ndf.shape[1]-1)]\n",
    "print(nc)\n",
    "fc = ['Paper']\n",
    "ndf.columns = fc+nc\n",
    "ndf.fillna('', inplace=True)\n",
    "ndf.head()"
   ]
  },
  {
   "cell_type": "code",
   "execution_count": null,
   "id": "7769692b",
   "metadata": {},
   "outputs": [],
   "source": [
    "# Merging the currebtly and previously found data\n",
    "done = done.append(ndf)\n",
    "print(done)"
   ]
  },
  {
   "cell_type": "code",
   "execution_count": null,
   "id": "e16ee6e1",
   "metadata": {},
   "outputs": [],
   "source": [
    "# Storing in the excel file\n",
    "done.fillna('', inplace=True)\n",
    "\n",
    "# print(df_combined)\n",
    "done.to_excel('C:/Users/HP/Desktop/Athar_Author.xlsx', index = None)"
   ]
  }
 ],
 "metadata": {
  "kernelspec": {
   "display_name": "Python 3 (ipykernel)",
   "language": "python",
   "name": "python3"
  },
  "language_info": {
   "codemirror_mode": {
    "name": "ipython",
    "version": 3
   },
   "file_extension": ".py",
   "mimetype": "text/x-python",
   "name": "python",
   "nbconvert_exporter": "python",
   "pygments_lexer": "ipython3",
   "version": "3.9.13"
  }
 },
 "nbformat": 4,
 "nbformat_minor": 5
}
